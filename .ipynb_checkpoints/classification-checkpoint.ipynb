{
 "cells": [
  {
   "cell_type": "code",
   "execution_count": null,
   "id": "b2e1817c",
   "metadata": {},
   "outputs": [],
   "source": [
    "# train_model.py\n",
    "import joblib\n",
    "import pandas as pd\n",
    "from sklearn.model_selection import train_test_split\n",
    "from sklearn.pipeline import Pipeline\n",
    "from sklearn.compose import ColumnTransformer\n",
    "from sklearn.impute import SimpleImputer\n",
    "from sklearn.preprocessing import OneHotEncoder, StandardScaler\n",
    "from sklearn.ensemble import RandomForestClassifier\n",
    "from sklearn.metrics import classification_report, roc_auc_score\n",
    "\n",
    "import seaborn as sns"
   ]
  },
  {
   "cell_type": "code",
   "execution_count": null,
   "id": "c0f27541",
   "metadata": {},
   "outputs": [],
   "source": [
    "# 1. Cargar dataset\n",
    "df = sns.load_dataset(\"titanic\")  # dataframe limpio para ejemplo\n",
    "df = df[['survived','pclass','sex','age','sibsp','parch','fare','embarked']].dropna(subset=['survived'])\n",
    "df = df.reset_index(drop=True)"
   ]
  },
  {
   "cell_type": "code",
   "execution_count": null,
   "id": "e441631e",
   "metadata": {},
   "outputs": [],
   "source": [
    "# 2. Features y target\n",
    "X = df.drop(columns=['survived'])\n",
    "y = df['survived']"
   ]
  },
  {
   "cell_type": "code",
   "execution_count": null,
   "id": "e65d7525",
   "metadata": {},
   "outputs": [],
   "source": [
    "# 3. Columnas por tipo\n",
    "num_features = ['age','sibsp','parch','fare','pclass']\n",
    "cat_features = ['sex','embarked']\n"
   ]
  },
  {
   "cell_type": "code",
   "execution_count": null,
   "id": "6f0e8c73",
   "metadata": {},
   "outputs": [],
   "source": [
    "# 4. Preprocesamiento\n",
    "num_transformer = Pipeline([\n",
    "    ('imputer', SimpleImputer(strategy='median')),\n",
    "    ('scaler', StandardScaler())\n",
    "])\n",
    "\n",
    "cat_transformer = Pipeline([\n",
    "    ('imputer', SimpleImputer(strategy='most_frequent')),\n",
    "    ('onehot', OneHotEncoder(handle_unknown='ignore'))\n",
    "])\n",
    "\n",
    "preprocessor = ColumnTransformer([\n",
    "    ('num', num_transformer, num_features),\n",
    "    ('cat', cat_transformer, cat_features)\n",
    "])"
   ]
  },
  {
   "cell_type": "code",
   "execution_count": null,
   "id": "501412b7",
   "metadata": {},
   "outputs": [],
   "source": [
    "# 5. Pipeline completo\n",
    "clf = Pipeline([\n",
    "    ('preprocessor', preprocessor),\n",
    "    ('rf', RandomForestClassifier(n_estimators=100, random_state=42))\n",
    "])"
   ]
  },
  {
   "cell_type": "code",
   "execution_count": null,
   "id": "1d579a3d",
   "metadata": {},
   "outputs": [],
   "source": [
    "# 6. Split y entrenamiento\n",
    "X_train, X_test, y_train, y_test = train_test_split(X, y, test_size=0.2, random_state=42, stratify=y)\n",
    "clf.fit(X_train, y_train)"
   ]
  },
  {
   "cell_type": "code",
   "execution_count": null,
   "id": "38a80991",
   "metadata": {},
   "outputs": [],
   "source": [
    "# 7. Evaluación\n",
    "y_pred = clf.predict(X_test)\n",
    "y_proba = clf.predict_proba(X_test)[:,1]\n",
    "print(classification_report(y_test, y_pred))\n",
    "try:\n",
    "    print(\"ROC AUC:\", roc_auc_score(y_test, y_proba))\n",
    "except Exception:\n",
    "    pass"
   ]
  },
  {
   "cell_type": "code",
   "execution_count": null,
   "id": "5606484a",
   "metadata": {},
   "outputs": [],
   "source": [
    "# 8. Guardar pipeline\n",
    "joblib.dump(clf, \"model.joblib\")\n",
    "print(\"Modelo guardado en model.joblib\")"
   ]
  }
 ],
 "metadata": {
  "kernelspec": {
   "display_name": "venv (3.13.7)",
   "language": "python",
   "name": "python3"
  },
  "language_info": {
   "name": "python",
   "version": "3.13.7"
  }
 },
 "nbformat": 4,
 "nbformat_minor": 5
}
